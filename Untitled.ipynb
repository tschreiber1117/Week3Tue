{
 "cells": [
  {
   "cell_type": "code",
   "execution_count": null,
   "id": "e626c439",
   "metadata": {},
   "outputs": [],
   "source": [
    "#Consecutive Indices\n",
    "#You are given a list of unique integers (arr), and two integers (a and b). \n",
    "#Your task is to find out whether or not a and b appear consecutively in arr, and return a boolean value (True if a and b are consecutive, False otherwise).\n",
    "#It is guaranteed that a and b are both present in arr.\n",
    "#Example:\n",
    "#Input: ([1, 6, 9, -3, 4, -78, 0], -3, 4)\n",
    "#Output: True\n",
    "#Input: ([3,1,0,19], 19, 0)\t\n",
    "#Output: True\n",
    "    \n",
    "def consecutive(arr, a, b):\n",
    "    \n"
   ]
  }
 ],
 "metadata": {
  "kernelspec": {
   "display_name": "Python 3",
   "language": "python",
   "name": "python3"
  },
  "language_info": {
   "codemirror_mode": {
    "name": "ipython",
    "version": 3
   },
   "file_extension": ".py",
   "mimetype": "text/x-python",
   "name": "python",
   "nbconvert_exporter": "python",
   "pygments_lexer": "ipython3",
   "version": "3.8.8"
  }
 },
 "nbformat": 4,
 "nbformat_minor": 5
}
