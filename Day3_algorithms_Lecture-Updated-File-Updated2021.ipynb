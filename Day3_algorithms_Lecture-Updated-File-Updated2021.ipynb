{
 "cells": [
  {
   "cell_type": "markdown",
   "metadata": {},
   "source": [
    "# Classic Algorithms"
   ]
  },
  {
   "cell_type": "markdown",
   "metadata": {},
   "source": [
    "## Tasks Today:\n",
    " \n",
    "1) <b>In-Place Algorithms</b> <br>\n",
    " &nbsp;&nbsp;&nbsp;&nbsp; a) Syntax <br>\n",
    " &nbsp;&nbsp;&nbsp;&nbsp; a) Out of Place Algorithm <br>\n",
    " &nbsp;&nbsp;&nbsp;&nbsp; b) In-Class Exercise #1 <br>\n",
    "2) <b>Two Pointers</b> <br>\n",
    "3) <b>Sorting Algorithms</b> <br>\n",
    "4) <b>Merge Sort</b> <br>\n",
    " &nbsp;&nbsp;&nbsp;&nbsp; a) Video on Algorithms <br>\n",
    " &nbsp;&nbsp;&nbsp;&nbsp; b) How it Works <br>\n",
    "5) <b>Exercises</b> <br>\n",
    " &nbsp;&nbsp;&nbsp;&nbsp; a) Exercise #1 - Reverse a List in Place Using an In-Place Algorithm <br>\n",
    " &nbsp;&nbsp;&nbsp;&nbsp; b) Exercise #2 - Find Distinct Words <br>\n",
    " &nbsp;&nbsp;&nbsp;&nbsp; c) Exercise #3 - Write a program to implement a Linear Search Algorithm. <br>"
   ]
  },
  {
   "cell_type": "markdown",
   "metadata": {},
   "source": [
    "## In-Place Algorithms"
   ]
  },
  {
   "cell_type": "markdown",
   "metadata": {},
   "source": [
    "#### Syntax"
   ]
  },
  {
   "cell_type": "code",
   "execution_count": 2,
   "metadata": {},
   "outputs": [
    {
     "name": "stdout",
     "output_type": "stream",
     "text": [
      "0xdd3c588\n",
      "0xdd3c8c8\n"
     ]
    },
    {
     "data": {
      "text/plain": [
       "['f', 'b', 'c', 'a', 'e', 'd']"
      ]
     },
     "execution_count": 2,
     "metadata": {},
     "output_type": "execute_result"
    }
   ],
   "source": [
    "# In-place algorithms modify the original data structure that they are called on\n",
    "# The classic example of an in-place algorithm, is .sort() - it sorts the original list in place and doesn't return anything...you just have access to the original list still, which is now sorted\n",
    "\n",
    "alist = [200, 493, 12]\n",
    "\n",
    "alist[0], alist[2] = alist[2], alist[0]\n",
    "\n",
    "def swap(some_list,x,y,z):\n",
    "    some_list[x], some_list[y], some_list[z] = some_list[z], some_list[x], some_list[y]\n",
    "print(hex(id(my_list)))\n",
    "    \n",
    "my_list = ['a', 'b', 'c', 'd', 'e', 'f']\n",
    "\n",
    "swap(my_list, 0, 3, -1)\n",
    "print(hex(id(my_list)))\n",
    "my_list\n"
   ]
  },
  {
   "cell_type": "code",
   "execution_count": 3,
   "metadata": {},
   "outputs": [
    {
     "name": "stdout",
     "output_type": "stream",
     "text": [
      "Before swap: [20, 4, 10]\n",
      "AFTER swap: [20, 10, 4]\n"
     ]
    }
   ],
   "source": [
    "# var[i],var[i + 1] = var[i + 1], var[i]\n",
    "# Sometimes known as a swap algorithm\n",
    "def swap(alist,x,y,z):\n",
    "    alist[x],alist[y],alist[z] = alist[z],alist[y],alist[x]\n",
    "    return alist\n",
    "\n",
    "my_list = [20,4,10]\n",
    "print(f\"Before swap: {my_list}\")\n",
    "\n",
    "# swap(my_list,0,1,2)\n",
    "swap(my_list,2,0,1)\n",
    "\n",
    "\n",
    "print(f\"AFTER swap: {my_list}\")"
   ]
  },
  {
   "cell_type": "markdown",
   "metadata": {},
   "source": [
    "#### Out of Place Algorithm"
   ]
  },
  {
   "cell_type": "code",
   "execution_count": 6,
   "metadata": {},
   "outputs": [
    {
     "name": "stdout",
     "output_type": "stream",
     "text": [
      "before: ['a', 'b', 'c', 'd', 'e', 'f'] @ 0xdd36888\n",
      "after: ['a', 'b', 'c', 'd', 'e', 'f'] @ 0xdd36888\n",
      "swapped version: ['f', 'b', 'c', 'a', 'e', 'd'] @ 0xdd36a28\n"
     ]
    }
   ],
   "source": [
    "# Out-of-Place algorithms do not modify the original data structure that they are called on - they make a copy and leave the original unaltered\n",
    "# The classic example of an out-of-place algorithm, is .sorted() - it makes a copy of the original list, leaves the original list intact, and returns the new sorted list. \n",
    "# less memory efficient -> make a copy, you wind up with 2 lists instead of 1...however they let you maintain data integrity. If we don't modify the original, we still have it as an original. \n",
    "\n",
    "\n",
    "my_list = ['a', 'b', 'c', 'd', 'e', 'f']\n",
    "print(f'before: {my_list} @ {hex(id(my_list))}')\n",
    "def swap_out_of_place(some_list,x,y,z):\n",
    "    output = some_list[:] #make a copy using list slicing :)\n",
    "    output[x], output[y], output[z] = output[z], output[x], output[y]\n",
    "    return output\n",
    "\n",
    "swapped_list = swap_out_of_place(my_list, 0, 3, -1)\n",
    "\n",
    "print(f'after: {my_list} @ {hex(id(my_list))}')\n",
    "print(f'swapped version: {swapped_list} @ {hex(id(swapped_list))}')\n",
    "      \n"
   ]
  },
  {
   "cell_type": "code",
   "execution_count": 4,
   "metadata": {},
   "outputs": [
    {
     "name": "stdout",
     "output_type": "stream",
     "text": [
      "[4, 10, 20]\n",
      "Before ['a', 'b', 'c', 'd']\n",
      "After ['d', 'c', 'b', 'a']\n"
     ]
    }
   ],
   "source": [
    "# not swapping, but rather reversing completely\n",
    "# BUT also copies to another place in memory\n",
    "my_list_copy = my_list[::-1]\n",
    "print(my_list_copy)\n",
    "\n",
    "array = ['a', 'b', 'c', 'd']\n",
    "new_array = ['a'] * len(array)\n",
    "\n",
    "print(\"Before\",array)\n",
    "\n",
    "length = len(array) - 1\n",
    "\n",
    "for i in range(length):\n",
    "    new_array[i] = array[length - i]\n",
    "    \n",
    "array = new_array\n",
    "print(\"After\",array)\n"
   ]
  },
  {
   "cell_type": "markdown",
   "metadata": {},
   "source": [
    "#### In-Class Exercise #1 <br>\n",
    "<p>Write a function that takes in four arguments (list, index1, index2, index3), and swaps those three positions in the list passed in.</p>"
   ]
  },
  {
   "cell_type": "code",
   "execution_count": 7,
   "metadata": {},
   "outputs": [
    {
     "data": {
      "text/plain": [
       "[10, 4, 2, 3, 4, 8, 6]"
      ]
     },
     "execution_count": 7,
     "metadata": {},
     "output_type": "execute_result"
    }
   ],
   "source": [
    "l_1 = [10, 4, 3, 8, 4, 2, 6]\n",
    "\n",
    "def swap(some_list,index1,index2, index3):\n",
    "    some_list[index1], some_list[index2], some_list[index3] = some_list[index3], some_list[index1], some_list[index2]\n",
    "\n",
    "swap(l_1, 3, 5, 2)\n",
    "l_1"
   ]
  },
  {
   "cell_type": "code",
   "execution_count": null,
   "metadata": {},
   "outputs": [],
   "source": [
    "# So far, we've been looking at swapping only 3 indexes around within a list( or out of place). How can we accomplish reversing our entire list?\n",
    "# Out of place, its easy - list slicing has this behavior built-in! \n",
    "\n",
    "# list slicing lets you access copies of portions of a list - syntax is similar to indexing into a list - parameters are similar to the range() function"
   ]
  },
  {
   "cell_type": "code",
   "execution_count": 11,
   "metadata": {},
   "outputs": [
    {
     "name": "stdout",
     "output_type": "stream",
     "text": [
      "['fennec fox', 'moon bear']\n",
      "['porpoise', 'moon bear', 'marine iguana', 'elephant', 'flamingo']\n",
      "['fennec fox', 'porpoise', 'moon bear', 'marine iguana', 'elephant', 'flamingo']\n",
      "['fennec fox', 'porpoise', 'moon bear', 'marine iguana', 'elephant', 'flamingo']\n",
      "reversed: ['flamingo', 'elephant', 'marine iguana', 'moon bear', 'porpoise', 'fennec fox'] @ 0xd9dbd08\n",
      "original: ['fennec fox', 'porpoise', 'moon bear', 'marine iguana', 'elephant', 'flamingo'] @ 0x7ae2888\n"
     ]
    }
   ],
   "source": [
    "my_list = ['fennec fox', 'porpoise', 'moon bear', 'marine iguana', 'elephant', 'flamingo']\n",
    "# slicing syntax: list[start:stop(not included):step]\n",
    "# list slicing is an out of place algorithm (original list does not change)\n",
    "\n",
    "print(my_list[0:3:2])\n",
    "print(my_list[1:])\n",
    "print(my_list)\n",
    "print(my_list[:])\n",
    "\n",
    "# out of place list reversal? list slice of the full list, with a backwards step\n",
    "reversed_my_list = my_list[::-1]\n",
    "print(f'reversed: {reversed_my_list} @ {hex(id(reversed_my_list))}')\n",
    "print(f'original: {my_list} @ {hex(id(my_list))}')"
   ]
  },
  {
   "cell_type": "code",
   "execution_count": null,
   "metadata": {},
   "outputs": [],
   "source": []
  },
  {
   "cell_type": "markdown",
   "metadata": {},
   "source": [
    "## Two Pointers"
   ]
  },
  {
   "cell_type": "code",
   "execution_count": 14,
   "metadata": {},
   "outputs": [
    {
     "name": "stdout",
     "output_type": "stream",
     "text": [
      "left: 0, right: -1 | ['fennec fox', 'porpoise', 'moon bear', 'marine iguana', 'elephant', 'flamingo']\n",
      "left: 1, right: -2 | ['flamingo', 'porpoise', 'moon bear', 'marine iguana', 'elephant', 'fennec fox']\n",
      "left: 2, right: -3 | ['flamingo', 'elephant', 'moon bear', 'marine iguana', 'porpoise', 'fennec fox']\n",
      "left: 3, right: -4 | ['flamingo', 'elephant', 'marine iguana', 'moon bear', 'porpoise', 'fennec fox']\n"
     ]
    },
    {
     "data": {
      "text/plain": [
       "['flamingo',\n",
       " 'elephant',\n",
       " 'marine iguana',\n",
       " 'moon bear',\n",
       " 'porpoise',\n",
       " 'fennec fox']"
      ]
     },
     "execution_count": 14,
     "metadata": {},
     "output_type": "execute_result"
    }
   ],
   "source": [
    "#Two pointers is a strategy of defining two variables to \"point\" at two indexes of a list while you interate/loop over that list\n",
    "# Very useful for in-place algorithms or more efficient looping\n",
    "\n",
    "my_list = ['fennec fox', 'porpoise', 'moon bear', 'marine iguana', 'elephant', 'flamingo']\n",
    "\n",
    "def pointerswapping(a_list):\n",
    "    #in-place swap all items -> i should be able to print the original my_list after this function is called\n",
    "    # and it should be reversed and this function shouldn't have to return anything\n",
    "    \n",
    "    # our two pointers are going to keep track of waht we're swapping at each step of our process\n",
    "    # and then tell us when we run out of things to swap\n",
    "\n",
    "    left = 0\n",
    "    right = -1\n",
    "    while left < len(a_list)//2: # while the left pointer hasnt passed the middle of the list\n",
    "        print(f'left: {left}, right: {right} | {a_list}')\n",
    "        # swap our values\n",
    "        a_list[left], a_list[right] = a_list[right], a_list[left]\n",
    "        # move left pointer\n",
    "        left += 1\n",
    "        # move right pointer\n",
    "        right -=1\n",
    "        \n",
    "    print(f'left: {left}, right: {right} | {a_list}')\n",
    "pointerswapping(my_list)\n",
    "my_list"
   ]
  },
  {
   "cell_type": "markdown",
   "metadata": {},
   "source": [
    "#### Syntax"
   ]
  },
  {
   "cell_type": "code",
   "execution_count": 6,
   "metadata": {},
   "outputs": [
    {
     "data": {
      "text/plain": [
       "[22, 11, 4, 8, 9, 12, 3, 2, 1]"
      ]
     },
     "execution_count": 6,
     "metadata": {},
     "output_type": "execute_result"
    }
   ],
   "source": [
    "# alist[left], alist[right] = alist[right],alist[left]\n",
    "#use two pointers to swap, can use a while loop in most cases\n",
    "def twoPointers(alist):\n",
    "    # Creating pointers for the list below:\n",
    "    left = 0\n",
    "    right = len(alist) - 1\n",
    "    while left <= right:\n",
    "        alist[left], alist[right] = alist[right],alist[left]\n",
    "        left += 1\n",
    "        right -= 1\n",
    "    return alist\n",
    "\n",
    "my_list2 = [1,2,3,12,9,8,4,11,22]\n",
    "twoPointers(my_list2)\n"
   ]
  },
  {
   "cell_type": "markdown",
   "metadata": {},
   "source": [
    "#### Video of Algorithms <br>\n",
    "<p>Watch the video about algorithms.</p>\n",
    "\n",
    "https://www.youtube.com/watch?v=Q9HjeFD62Uk\n",
    "\n",
    "https://www.youtube.com/watch?v=kPRA0W1kECg\n",
    "\n",
    "https://www.youtube.com/watch?v=ZZuD6iUe3Pc"
   ]
  },
  {
   "cell_type": "code",
   "execution_count": null,
   "metadata": {},
   "outputs": [],
   "source": [
    "# General theory of time complexity:\n",
    "\n",
    "# how long does this program tak eto run as the number of input or length of input scales to infinity\n",
    "# in other words - how much additional time does adding one additional input or length of input add\n",
    "\n",
    "# We calculate this through asymptomatic analysis which lets us fudge our math a little bit and simplify otherwise complicated calculations\n",
    "# Also - we write this time complexity (or space complexity) using three notations:\n",
    "\n",
    "# most common notation - Big O notation\n",
    "# O(n) - stands for the worst-case performance\n",
    "\n",
    "# Omega notation\n",
    "# Ω(n) - stands for best-case performance\n",
    "\n",
    "# Theta notation\n",
    "# θ(n) - stands for average performance"
   ]
  },
  {
   "cell_type": "code",
   "execution_count": 17,
   "metadata": {},
   "outputs": [
    {
     "ename": "NameError",
     "evalue": "name 'long_list' is not defined",
     "output_type": "error",
     "traceback": [
      "\u001b[1;31m---------------------------------------------------------------------------\u001b[0m",
      "\u001b[1;31mNameError\u001b[0m                                 Traceback (most recent call last)",
      "\u001b[1;32m<ipython-input-17-4f4cccc6bb61>\u001b[0m in \u001b[0;36m<module>\u001b[1;34m\u001b[0m\n\u001b[0;32m      4\u001b[0m \u001b[1;31m# example of steps not increasing:\u001b[0m\u001b[1;33m\u001b[0m\u001b[1;33m\u001b[0m\u001b[1;33m\u001b[0m\u001b[0m\n\u001b[0;32m      5\u001b[0m \u001b[0mmy_list\u001b[0m \u001b[1;33m=\u001b[0m \u001b[0mlist\u001b[0m\u001b[1;33m(\u001b[0m\u001b[0mrange\u001b[0m\u001b[1;33m(\u001b[0m\u001b[1;36m3\u001b[0m\u001b[1;33m)\u001b[0m\u001b[1;33m)\u001b[0m \u001b[1;31m# length 3\u001b[0m\u001b[1;33m\u001b[0m\u001b[1;33m\u001b[0m\u001b[0m\n\u001b[1;32m----> 6\u001b[1;33m \u001b[0mlong_list\u001b[0m \u001b[1;33m+\u001b[0m \u001b[0mlist\u001b[0m\u001b[1;33m(\u001b[0m\u001b[0mrange\u001b[0m\u001b[1;33m(\u001b[0m\u001b[1;36m10000000\u001b[0m\u001b[1;33m)\u001b[0m\u001b[1;33m)\u001b[0m \u001b[1;31m# length 10000000\u001b[0m\u001b[1;33m\u001b[0m\u001b[1;33m\u001b[0m\u001b[0m\n\u001b[0m\u001b[0;32m      7\u001b[0m \u001b[0mprint\u001b[0m\u001b[1;33m(\u001b[0m\u001b[0mmy_list\u001b[0m\u001b[1;33m[\u001b[0m\u001b[1;36m2\u001b[0m\u001b[1;33m]\u001b[0m\u001b[1;33m)\u001b[0m \u001b[1;31m# list indexing O(1) constant time process\u001b[0m\u001b[1;33m\u001b[0m\u001b[1;33m\u001b[0m\u001b[0m\n\u001b[0;32m      8\u001b[0m \u001b[0mprint\u001b[0m\u001b[1;33m(\u001b[0m\u001b[0mlong_list\u001b[0m\u001b[1;33m[\u001b[0m\u001b[1;36m800\u001b[0m\u001b[1;33m]\u001b[0m\u001b[1;33m)\u001b[0m \u001b[1;31m# list indexing O(1) constant time\u001b[0m\u001b[1;33m\u001b[0m\u001b[1;33m\u001b[0m\u001b[0m\n",
      "\u001b[1;31mNameError\u001b[0m: name 'long_list' is not defined"
     ]
    }
   ],
   "source": [
    "# how do I know what matters vs. what doesn't matter in our asymptomatic analysis for efficiency?\n",
    "# does increasing size of input change the number of steps we take\n",
    "\n",
    "# example of steps not increasing:\n",
    "my_list = list(range(3)) # length 3\n",
    "long_list + list(range(10000000)) # length 10000000\n",
    "print(my_list[2]) # list indexing O(1) constant time process\n",
    "print(long_list[800]) # list indexing O(1) constant time\n",
    "\n",
    "# example of steps increasing with size\n",
    "for x in my_list: # for loop O(n) time complexity - because for each additional thing in my list I have to loop one more time\n",
    "    print(x)\n",
    "for x in long_list:\n",
    "    print(x)"
   ]
  },
  {
   "cell_type": "code",
   "execution_count": 15,
   "metadata": {},
   "outputs": [
    {
     "name": "stdout",
     "output_type": "stream",
     "text": [
      "0 0\n",
      "0 1\n",
      "0 2\n",
      "0 3\n",
      "0 4\n",
      "1 0\n",
      "1 1\n",
      "1 2\n",
      "1 3\n",
      "1 4\n",
      "2 0\n",
      "2 1\n",
      "2 2\n",
      "2 3\n",
      "2 4\n",
      "3 0\n",
      "3 1\n",
      "3 2\n",
      "3 3\n",
      "3 4\n",
      "4 0\n",
      "4 1\n",
      "4 2\n",
      "4 3\n",
      "4 4\n"
     ]
    }
   ],
   "source": [
    "# nested for loop - O(n^2) quadratic time complexity\n",
    "# every additional length of our list increases the amount of steps in our process by the additional length squared\n",
    "for x in range(5):\n",
    "    for y in range(5):\n",
    "        print(x,y)"
   ]
  },
  {
   "cell_type": "code",
   "execution_count": null,
   "metadata": {},
   "outputs": [],
   "source": [
    "# becuase our analysis of time complexity is asymptotic as inputs (n) scale to infinity\n",
    "# we can ignore everything that does not exponentially increase n\n",
    "# infinity + infinity = infinity\n",
    "# 2*infinity = infinitiy where c is any constant number\n",
    "# infinity*infinity = infinity^2\n",
    "\n",
    "O(n+n) = O(n)\n",
    "O(5*n) = O(n)\n",
    "O(n*n) = O(n^2)"
   ]
  },
  {
   "cell_type": "markdown",
   "metadata": {},
   "source": [
    "# Sorting Algorithms"
   ]
  },
  {
   "cell_type": "markdown",
   "metadata": {},
   "source": [
    "#### Bubble Sort\n",
    "\n",
    "Worst Case: O(n^2) Time - O(1) Space"
   ]
  },
  {
   "cell_type": "code",
   "execution_count": 21,
   "metadata": {},
   "outputs": [
    {
     "name": "stdout",
     "output_type": "stream",
     "text": [
      "checking array[0] vs. array[1] | 127 vs. 73\n",
      "swapping\n",
      "checking array[1] vs. array[2] | 127 vs. 2\n",
      "swapping\n",
      "checking array[2] vs. array[3] | 127 vs. 333\n",
      "checking array[3] vs. array[4] | 333 vs. 467\n",
      "checking array[4] vs. array[5] | 467 vs. 55555\n",
      "checking array[5] vs. array[6] | 55555 vs. 666\n",
      "swapping\n",
      "checking array[6] vs. array[7] | 55555 vs. 2\n",
      "swapping\n",
      "checking array[7] vs. array[8] | 55555 vs. 10\n",
      "swapping\n",
      "checking array[8] vs. array[9] | 55555 vs. 87\n",
      "swapping\n",
      "checking array[9] vs. array[10] | 55555 vs. 88\n",
      "swapping\n",
      "checking array[0] vs. array[1] | 73 vs. 2\n",
      "swapping\n",
      "checking array[1] vs. array[2] | 73 vs. 127\n",
      "checking array[2] vs. array[3] | 127 vs. 333\n",
      "checking array[3] vs. array[4] | 333 vs. 467\n",
      "checking array[4] vs. array[5] | 467 vs. 666\n",
      "checking array[5] vs. array[6] | 666 vs. 2\n",
      "swapping\n",
      "checking array[6] vs. array[7] | 666 vs. 10\n",
      "swapping\n",
      "checking array[7] vs. array[8] | 666 vs. 87\n",
      "swapping\n",
      "checking array[8] vs. array[9] | 666 vs. 88\n",
      "swapping\n",
      "checking array[9] vs. array[10] | 666 vs. 55555\n",
      "checking array[0] vs. array[1] | 2 vs. 73\n",
      "checking array[1] vs. array[2] | 73 vs. 127\n",
      "checking array[2] vs. array[3] | 127 vs. 333\n",
      "checking array[3] vs. array[4] | 333 vs. 467\n",
      "checking array[4] vs. array[5] | 467 vs. 2\n",
      "swapping\n",
      "checking array[5] vs. array[6] | 467 vs. 10\n",
      "swapping\n",
      "checking array[6] vs. array[7] | 467 vs. 87\n",
      "swapping\n",
      "checking array[7] vs. array[8] | 467 vs. 88\n",
      "swapping\n",
      "checking array[8] vs. array[9] | 467 vs. 666\n",
      "checking array[9] vs. array[10] | 666 vs. 55555\n",
      "checking array[0] vs. array[1] | 2 vs. 73\n",
      "checking array[1] vs. array[2] | 73 vs. 127\n",
      "checking array[2] vs. array[3] | 127 vs. 333\n",
      "checking array[3] vs. array[4] | 333 vs. 2\n",
      "swapping\n",
      "checking array[4] vs. array[5] | 333 vs. 10\n",
      "swapping\n",
      "checking array[5] vs. array[6] | 333 vs. 87\n",
      "swapping\n",
      "checking array[6] vs. array[7] | 333 vs. 88\n",
      "swapping\n",
      "checking array[7] vs. array[8] | 333 vs. 467\n",
      "checking array[8] vs. array[9] | 467 vs. 666\n",
      "checking array[9] vs. array[10] | 666 vs. 55555\n",
      "checking array[0] vs. array[1] | 2 vs. 73\n",
      "checking array[1] vs. array[2] | 73 vs. 127\n",
      "checking array[2] vs. array[3] | 127 vs. 2\n",
      "swapping\n",
      "checking array[3] vs. array[4] | 127 vs. 10\n",
      "swapping\n",
      "checking array[4] vs. array[5] | 127 vs. 87\n",
      "swapping\n",
      "checking array[5] vs. array[6] | 127 vs. 88\n",
      "swapping\n",
      "checking array[6] vs. array[7] | 127 vs. 333\n",
      "checking array[7] vs. array[8] | 333 vs. 467\n",
      "checking array[8] vs. array[9] | 467 vs. 666\n",
      "checking array[9] vs. array[10] | 666 vs. 55555\n",
      "checking array[0] vs. array[1] | 2 vs. 73\n",
      "checking array[1] vs. array[2] | 73 vs. 2\n",
      "swapping\n",
      "checking array[2] vs. array[3] | 73 vs. 10\n",
      "swapping\n",
      "checking array[3] vs. array[4] | 73 vs. 87\n",
      "checking array[4] vs. array[5] | 87 vs. 88\n",
      "checking array[5] vs. array[6] | 88 vs. 127\n",
      "checking array[6] vs. array[7] | 127 vs. 333\n",
      "checking array[7] vs. array[8] | 333 vs. 467\n",
      "checking array[8] vs. array[9] | 467 vs. 666\n",
      "checking array[9] vs. array[10] | 666 vs. 55555\n",
      "checking array[0] vs. array[1] | 2 vs. 2\n",
      "checking array[1] vs. array[2] | 2 vs. 10\n",
      "checking array[2] vs. array[3] | 10 vs. 73\n",
      "checking array[3] vs. array[4] | 73 vs. 87\n",
      "checking array[4] vs. array[5] | 87 vs. 88\n",
      "checking array[5] vs. array[6] | 88 vs. 127\n",
      "checking array[6] vs. array[7] | 127 vs. 333\n",
      "checking array[7] vs. array[8] | 333 vs. 467\n",
      "checking array[8] vs. array[9] | 467 vs. 666\n",
      "checking array[9] vs. array[10] | 666 vs. 55555\n"
     ]
    },
    {
     "data": {
      "text/plain": [
       "[2, 2, 10, 73, 87, 88, 127, 333, 467, 666, 55555]"
      ]
     },
     "execution_count": 21,
     "metadata": {},
     "output_type": "execute_result"
    }
   ],
   "source": [
    "# O(1 + n*(1+n+1+1+1)) -> O(n*n) -> O(n^2)\n",
    "\n",
    "# helper function does a process for me to use inside of another function\n",
    "def swap(i,j, array):\n",
    "    array[i], array[j] = array[j], array[i]\n",
    "\n",
    "def bubbleSort(array):\n",
    "    isSorted = False\n",
    "    while not isSorted:\n",
    "        isSorted = True\n",
    "        for i in range(len(array)-1):\n",
    "            print(f'checking array[{i}] vs. array[{i+1}] | {array[i]} vs. {array[i+1]}')\n",
    "            if array[i] > array[i+1]:\n",
    "                print('swapping')\n",
    "                swap(i, i+1, array)\n",
    "                isSorted = False\n",
    "    return\n",
    "\n",
    "my_list = [127,73,2,333,467,55555,666,2,10,87,88]\n",
    "bubbleSort(my_list)\n",
    "my_list\n",
    "                "
   ]
  },
  {
   "cell_type": "code",
   "execution_count": 18,
   "metadata": {},
   "outputs": [
    {
     "ename": "IndexError",
     "evalue": "list index out of range",
     "output_type": "error",
     "traceback": [
      "\u001b[1;31m---------------------------------------------------------------------------\u001b[0m",
      "\u001b[1;31mIndexError\u001b[0m                                Traceback (most recent call last)",
      "\u001b[1;32m<ipython-input-18-a58350cfaa0b>\u001b[0m in \u001b[0;36m<module>\u001b[1;34m\u001b[0m\n\u001b[0;32m      1\u001b[0m \u001b[0marray\u001b[0m \u001b[1;33m=\u001b[0m \u001b[1;33m[\u001b[0m\u001b[1;36m1\u001b[0m\u001b[1;33m,\u001b[0m \u001b[1;36m2\u001b[0m\u001b[1;33m,\u001b[0m \u001b[1;36m3\u001b[0m\u001b[1;33m,\u001b[0m \u001b[1;36m4\u001b[0m\u001b[1;33m,\u001b[0m \u001b[1;36m5\u001b[0m\u001b[1;33m,\u001b[0m \u001b[1;36m6\u001b[0m\u001b[1;33m]\u001b[0m\u001b[1;33m\u001b[0m\u001b[1;33m\u001b[0m\u001b[0m\n\u001b[0;32m      2\u001b[0m \u001b[1;32mfor\u001b[0m \u001b[0mi\u001b[0m \u001b[1;32min\u001b[0m \u001b[0mrange\u001b[0m\u001b[1;33m(\u001b[0m\u001b[0mlen\u001b[0m\u001b[1;33m(\u001b[0m\u001b[0marray\u001b[0m\u001b[1;33m)\u001b[0m\u001b[1;33m)\u001b[0m\u001b[1;33m:\u001b[0m\u001b[1;33m\u001b[0m\u001b[1;33m\u001b[0m\u001b[0m\n\u001b[1;32m----> 3\u001b[1;33m             \u001b[1;32mif\u001b[0m \u001b[0marray\u001b[0m\u001b[1;33m[\u001b[0m\u001b[0mi\u001b[0m\u001b[1;33m]\u001b[0m \u001b[1;33m>\u001b[0m \u001b[0marray\u001b[0m\u001b[1;33m[\u001b[0m\u001b[0mi\u001b[0m\u001b[1;33m+\u001b[0m\u001b[1;36m1\u001b[0m\u001b[1;33m]\u001b[0m\u001b[1;33m:\u001b[0m\u001b[1;33m\u001b[0m\u001b[1;33m\u001b[0m\u001b[0m\n\u001b[0m\u001b[0;32m      4\u001b[0m                 \u001b[0mprint\u001b[0m\u001b[1;33m(\u001b[0m\u001b[0mi\u001b[0m\u001b[1;33m)\u001b[0m\u001b[1;33m\u001b[0m\u001b[1;33m\u001b[0m\u001b[0m\n",
      "\u001b[1;31mIndexError\u001b[0m: list index out of range"
     ]
    }
   ],
   "source": [
    "array = [1, 2, 3, 4, 5, 6]\n",
    "for i in range(len(array)):\n",
    "            if array[i] < array[i+1]:\n",
    "                print(i)"
   ]
  },
  {
   "cell_type": "code",
   "execution_count": 7,
   "metadata": {},
   "outputs": [
    {
     "data": {
      "text/plain": [
       "[1, 22, 34, 44, 55, 66, 88, 100]"
      ]
     },
     "execution_count": 7,
     "metadata": {},
     "output_type": "execute_result"
    }
   ],
   "source": [
    "# Best Case: O(n) - Linear\n",
    "def swap(i,j, array):\n",
    "    array[i],array[j] = array[j],array[i]\n",
    "    \n",
    "def bubbleSort(array):\n",
    "    isSorted = False\n",
    "    while not isSorted:\n",
    "        isSorted = True\n",
    "        for num in range(len(array) - 1):\n",
    "            if array[num] > array[num + 1]:\n",
    "                swap(num, num + 1, array)\n",
    "                isSorted = False\n",
    "    return array\n",
    "bubbleSort([22,55,88,44,1,100,34,66])"
   ]
  },
  {
   "cell_type": "markdown",
   "metadata": {},
   "source": [
    "##### Insertion Sort\n",
    "\n",
    "Worst Case: O(n^2) time - O(1)space"
   ]
  },
  {
   "cell_type": "code",
   "execution_count": 25,
   "metadata": {},
   "outputs": [
    {
     "name": "stdout",
     "output_type": "stream",
     "text": [
      "swapping array[1] vs. array[0] | 8 vs. 27\n",
      "swapping array[3] vs. array[2] | 32 vs. 344\n",
      "swapping array[4] vs. array[3] | 56 vs. 344\n",
      "swapping array[5] vs. array[4] | 4 vs. 344\n",
      "swapping array[6] vs. array[5] | 9 vs. 344\n"
     ]
    },
    {
     "data": {
      "text/plain": [
       "[8, 27, 32, 56, 4, 9, 344]"
      ]
     },
     "execution_count": 25,
     "metadata": {},
     "output_type": "execute_result"
    }
   ],
   "source": [
    "def swap(i,j, array):\n",
    "    array[i], array[j] = array[j], array[i]\n",
    "    \n",
    "def insertionSort(array):\n",
    "    for i in range(1, len(array)):\n",
    "        j = i # pointer j points at same index as i\n",
    "        while j > 0 and array[j] < array[j-1]:\n",
    "            print(f'swapping array[{j}] vs. array[{j-1}] | {array[j]} vs. {array[j-1]}')\n",
    "            swap(j, j-1, array)\n",
    "            j -= i\n",
    "    return\n",
    "\n",
    "my_list = [27, 8, 344, 32, 56, 4, 9]\n",
    "insertionSort(my_list)\n",
    "my_list"
   ]
  },
  {
   "cell_type": "code",
   "execution_count": null,
   "metadata": {},
   "outputs": [],
   "source": [
    "def swap(i,j,array):\n",
    "    array[i],array[j] = array[j],array[i]\n",
    "    \n",
    "def insertionSort(array):\n",
    "    for i in range(1,len(array)):\n",
    "        j = i\n",
    "        while j > 0 and array[j] < array[j - 1]:\n",
    "            swap(j, j - 1, array)\n",
    "            j -= 1\n",
    "    return array\n",
    "\n",
    "insertionSort([22,55,88,44,1,100,34,66])"
   ]
  },
  {
   "cell_type": "markdown",
   "metadata": {},
   "source": [
    "## Merge Sort"
   ]
  },
  {
   "cell_type": "markdown",
   "metadata": {},
   "source": [
    "#### How it Works"
   ]
  },
  {
   "cell_type": "code",
   "execution_count": null,
   "metadata": {},
   "outputs": [],
   "source": [
    "# Recursive implementation\n",
    "# Step 1: Split everything into its own group\n",
    "# Step 2: From left to right, merge groups together\n",
    "# Step 3: While merging, place each item in the correct position into the merged group\n",
    "# Step 4: Continue steps 3-4 until one group is left"
   ]
  },
  {
   "cell_type": "code",
   "execution_count": 8,
   "metadata": {},
   "outputs": [
    {
     "name": "stdout",
     "output_type": "stream",
     "text": [
      "Splitting... [5, 10, 4, 1, 12]\n",
      "Splitting... [5, 10]\n",
      "Splitting... [5]\n",
      "Merging:  [5]\n",
      "Splitting... [10]\n",
      "Merging:  [10]\n",
      "Merging:  [5, 10]\n",
      "Splitting... [4, 1, 12]\n",
      "Splitting... [4]\n",
      "Merging:  [4]\n",
      "Splitting... [1, 12]\n",
      "Splitting... [1]\n",
      "Merging:  [1]\n",
      "Splitting... [12]\n",
      "Merging:  [12]\n",
      "Merging:  [1, 12]\n",
      "Merging:  [1, 4, 12]\n",
      "Merging:  [1, 4, 5, 10, 12]\n"
     ]
    },
    {
     "data": {
      "text/plain": [
       "[1, 4, 5, 10, 12]"
      ]
     },
     "execution_count": 8,
     "metadata": {},
     "output_type": "execute_result"
    }
   ],
   "source": [
    "# Step 1: Split everything into it's own group\n",
    "# Step 2: From left to right merge two groups together\n",
    "# Step 3: While merging, place each item in the correct position within the merged group\n",
    "# Step 4: Continue Steps 3-4 until one group is left\n",
    "\n",
    "from random import randint\n",
    "# used to generate a random list of 5 numbers from 0 to 20\n",
    "nums = [randint(0,20) for i in range(5)]\n",
    "\n",
    "# write merge sort below\n",
    "def mergeSort(alist):\n",
    "    print(\"Splitting...\", alist)\n",
    "    \n",
    "    # Step 1: Divide the array into equal parts (as much as possible)\n",
    "    if len(alist) > 1:\n",
    "        mid = len(alist) // 2\n",
    "        lefthalf = alist[:mid]\n",
    "        righthalf = alist[mid:]\n",
    "        \n",
    "        # recursively call mergeSort to perform splits if need\n",
    "        # Then merge once splits are done\n",
    "        mergeSort(lefthalf)\n",
    "        mergeSort(righthalf)\n",
    "        \n",
    "        # index pointers for our list\n",
    "        i = 0 # pointer for left half\n",
    "        j = 0 # pointer for right half\n",
    "        k = 0 # pointer for main array\n",
    "        \n",
    "        # Step 2: Compare the lefthalf and righthalf\n",
    "        while i < len(lefthalf) and j < len(righthalf):\n",
    "            if lefthalf[i] < righthalf[j]:\n",
    "                alist[k] = lefthalf[i]\n",
    "                i = i + 1\n",
    "            else:\n",
    "                alist[k] = righthalf[j]\n",
    "                j = j + 1\n",
    "            k = k + 1\n",
    "        # Step 3: While merging place items in correct position\n",
    "        while i < len(lefthalf):\n",
    "            alist[k] = lefthalf[i]\n",
    "            i = i + 1\n",
    "            k = k + 1\n",
    "        while j < len(righthalf):\n",
    "            alist[k] = righthalf[j]\n",
    "            j = j + 1\n",
    "            k = k + 1\n",
    "    print(\"Merging: \", alist)\n",
    "    return alist\n",
    "\n",
    "mergeSort(nums)"
   ]
  },
  {
   "cell_type": "code",
   "execution_count": 27,
   "metadata": {},
   "outputs": [
    {
     "name": "stdout",
     "output_type": "stream",
     "text": [
      "4\n"
     ]
    }
   ],
   "source": [
    "# ok i've sorted my list, now I want to know where this item is in the list\n",
    "my_list = [-32, 0, 2, 2, 44, 72, 99, 321, 765, 3453]\n",
    "\n",
    "# what is the index of 44?\n",
    "my_list.index(44) # O(n) function\n",
    "# what .index() does:\n",
    "for index in range(len(my_list)):\n",
    "    if my_list[index] == 44:\n",
    "        print(index)"
   ]
  },
  {
   "cell_type": "code",
   "execution_count": null,
   "metadata": {},
   "outputs": [],
   "source": [
    "# if you have a sorted list -> binary search is the fastest approach to finding the index of a value\n"
   ]
  },
  {
   "cell_type": "markdown",
   "metadata": {},
   "source": [
    "# Binary Search\n",
    "\n",
    "The Binary Search algorithm works by finding the number in the middle of a given SORTED array and comparing it to the target. Given that the array is sorted\n",
    "\n",
    "* The worst case run time for this algorithm is `O(log(n))`"
   ]
  },
  {
   "cell_type": "code",
   "execution_count": 31,
   "metadata": {},
   "outputs": [
    {
     "data": {
      "text/plain": [
       "'The index of the target 99 is 7'"
      ]
     },
     "execution_count": 31,
     "metadata": {},
     "output_type": "execute_result"
    }
   ],
   "source": [
    "# left pointer -> smaller values\n",
    "# right pointer -> larger values\n",
    "# target -> the value we're looking for in the array\n",
    "\n",
    "def binarySearch(array, target, left, right):\n",
    "    while left <= right:\n",
    "        middle = (left+right) // 2\n",
    "        maybe_answer = array[middle]\n",
    "        if target == maybe_answer:\n",
    "            return f'The index of the target {target} is {middle}'\n",
    "        elif target < maybe_answer:\n",
    "            right = middle - 1\n",
    "        else: \n",
    "            left = middle + 1\n",
    "    return f'Target not in list'\n",
    "\n",
    "my_arr = [-32,0,2,2,5,44,72,99,321,765,3453]\n",
    "\n",
    "binarySearch(my_arr, 99, 0, len(my_arr)-1)\n"
   ]
  },
  {
   "cell_type": "code",
   "execution_count": 13,
   "metadata": {},
   "outputs": [
    {
     "data": {
      "text/plain": [
       "'The index is...1'"
      ]
     },
     "execution_count": 13,
     "metadata": {},
     "output_type": "execute_result"
    }
   ],
   "source": [
    "# Less == Left\n",
    "# Greater == Right\n",
    "# List of numbers MUST be sorted\n",
    "\n",
    "def binarySearchHelperFunction(array, target, left, right):\n",
    "    while left <= right:\n",
    "        middle = (left + right) // 2\n",
    "        potentialMatch = array[middle]\n",
    "        if target == potentialMatch:\n",
    "            return f\"The index is...{middle}\"\n",
    "        elif target < potentialMatch:\n",
    "            right = middle - 1\n",
    "        else:\n",
    "            left = middle + 1\n",
    "    return -1\n",
    "\n",
    "def binarySearch(array,target):\n",
    "    return binarySearchHelperFunction(array,target,0, len(array) - 1)\n",
    "\n",
    "binarySearch([22,44,55,66,88,100],44)"
   ]
  },
  {
   "cell_type": "markdown",
   "metadata": {},
   "source": [
    "# Exercises"
   ]
  },
  {
   "cell_type": "markdown",
   "metadata": {},
   "source": [
    "### Exercise #1 <br>\n",
    "<p>Reverse the list below in-place using an in-place algorithm.<br>For extra credit: Reverse the strings at the same time.</p>"
   ]
  },
  {
   "cell_type": "code",
   "execution_count": 39,
   "metadata": {},
   "outputs": [
    {
     "data": {
      "text/plain": [
       "['.', 'sentence', 'a', 'is', 'this']"
      ]
     },
     "execution_count": 39,
     "metadata": {},
     "output_type": "execute_result"
    }
   ],
   "source": [
    "words = ['this' , 'is', 'a', 'sentence', '.']\n",
    "\n",
    "new_words = ['this'] * len(words)\n",
    "\n",
    "length = len(words) - 1\n",
    "\n",
    "for i in range(length):\n",
    "    new_words[i] = words[length - i]\n",
    "    \n",
    "words = new_words\n",
    "words"
   ]
  },
  {
   "cell_type": "markdown",
   "metadata": {},
   "source": [
    "### Exercise #2 <br>\n",
    "<p>Create a function that counts how many distinct words are in the string below, then outputs a dictionary with the words as the key and the value as the amount of times that word appears in the string.<br>Should output:<br>{'a': 5,<br>\n",
    " 'abstract': 1,<br>\n",
    " 'an': 3,<br>\n",
    " 'array': 2, ... etc...</p>"
   ]
  },
  {
   "cell_type": "code",
   "execution_count": 57,
   "metadata": {},
   "outputs": [
    {
     "ename": "FileNotFoundError",
     "evalue": "[Errno 2] No such file or directory: 'In computing, a hash table hash map is a data structure which implements an associative array abstract data type, a structure that can map keys to values. A hash table uses a hash function to compute an index into an array of buckets or slots from which the desired value can be found'",
     "output_type": "error",
     "traceback": [
      "\u001b[1;31m---------------------------------------------------------------------------\u001b[0m",
      "\u001b[1;31mFileNotFoundError\u001b[0m                         Traceback (most recent call last)",
      "\u001b[1;32m<ipython-input-57-dbb233f1207b>\u001b[0m in \u001b[0;36m<module>\u001b[1;34m\u001b[0m\n\u001b[0;32m      2\u001b[0m \u001b[1;33m\u001b[0m\u001b[0m\n\u001b[0;32m      3\u001b[0m \u001b[0mcount\u001b[0m \u001b[1;33m=\u001b[0m \u001b[1;33m{\u001b[0m\u001b[1;33m}\u001b[0m\u001b[1;33m\u001b[0m\u001b[1;33m\u001b[0m\u001b[0m\n\u001b[1;32m----> 4\u001b[1;33m \u001b[1;32mfor\u001b[0m \u001b[0mw\u001b[0m \u001b[1;32min\u001b[0m \u001b[0mopen\u001b[0m \u001b[1;33m(\u001b[0m\u001b[0ma_text\u001b[0m\u001b[1;33m)\u001b[0m\u001b[1;33m.\u001b[0m\u001b[0msplit\u001b[0m\u001b[1;33m(\u001b[0m\u001b[1;33m)\u001b[0m\u001b[1;33m:\u001b[0m\u001b[1;33m\u001b[0m\u001b[1;33m\u001b[0m\u001b[0m\n\u001b[0m\u001b[0;32m      5\u001b[0m     \u001b[1;32mif\u001b[0m \u001b[0mw\u001b[0m \u001b[1;32min\u001b[0m \u001b[0mcount\u001b[0m\u001b[1;33m:\u001b[0m\u001b[1;33m\u001b[0m\u001b[1;33m\u001b[0m\u001b[0m\n\u001b[0;32m      6\u001b[0m         \u001b[0mcount\u001b[0m\u001b[1;33m[\u001b[0m\u001b[0mw\u001b[0m\u001b[1;33m]\u001b[0m \u001b[1;33m+=\u001b[0m \u001b[1;36m1\u001b[0m\u001b[1;33m\u001b[0m\u001b[1;33m\u001b[0m\u001b[0m\n",
      "\u001b[1;31mFileNotFoundError\u001b[0m: [Errno 2] No such file or directory: 'In computing, a hash table hash map is a data structure which implements an associative array abstract data type, a structure that can map keys to values. A hash table uses a hash function to compute an index into an array of buckets or slots from which the desired value can be found'"
     ]
    }
   ],
   "source": [
    "a_text = 'In computing, a hash table hash map is a data structure which implements an associative array abstract data type, a structure that can map keys to values. A hash table uses a hash function to compute an index into an array of buckets or slots from which the desired value can be found'\n",
    "\n",
    "count = {}\n",
    "for w in open (a_text).split():\n",
    "    if w in count:\n",
    "        count[w] += 1\n",
    "    else:\n",
    "        count[w] = 1\n",
    "for word, times in count.items():\n",
    "    print ('w was found %d times' % (word, times))\n"
   ]
  },
  {
   "cell_type": "markdown",
   "metadata": {},
   "source": [
    "## Exercise #3\n",
    "\n",
    "Write a program to implement a Linear Search Algorithm. Also in a comment, write the Time Complexity of the following algorithm.\n",
    "\n",
    "#### Hint: Linear Searching will require searching a list for a given number. "
   ]
  },
  {
   "cell_type": "code",
   "execution_count": 64,
   "metadata": {},
   "outputs": [
    {
     "data": {
      "text/plain": [
       "'Target not in list'"
      ]
     },
     "execution_count": 64,
     "metadata": {},
     "output_type": "execute_result"
    }
   ],
   "source": [
    "#nums_list = [10,23,45,70,11,15]\n",
    "#target = 70\n",
    "\n",
    "# If number is not present return -1\n",
    "\n",
    "\n",
    "def binarySearch(array, target, left, right):\n",
    "    while left <= right:\n",
    "        middle = (left+right) // 2\n",
    "        maybe_answer = array[middle]\n",
    "        if target == maybe_answer:\n",
    "            return f'The index of the target {target} is {middle}'\n",
    "        elif target < maybe_answer:\n",
    "            right = middle - 1\n",
    "        else: \n",
    "            left = middle + 1\n",
    "    return f'Target not in list'\n",
    "\n",
    "nums_list = [10,23,45,70,11,15]\n",
    "\n",
    "binarySearch(nums_list, 70, 0, len(nums_list)-1)\n",
    "\n",
    "\n",
    "???\n"
   ]
  }
 ],
 "metadata": {
  "kernelspec": {
   "display_name": "Python 3",
   "language": "python",
   "name": "python3"
  },
  "language_info": {
   "codemirror_mode": {
    "name": "ipython",
    "version": 3
   },
   "file_extension": ".py",
   "mimetype": "text/x-python",
   "name": "python",
   "nbconvert_exporter": "python",
   "pygments_lexer": "ipython3",
   "version": "3.8.8"
  }
 },
 "nbformat": 4,
 "nbformat_minor": 2
}
